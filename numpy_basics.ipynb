{
 "cells": [
  {
   "cell_type": "code",
   "execution_count": 3,
   "id": "f5190a43-bf65-4229-8a41-4f53196c485e",
   "metadata": {},
   "outputs": [],
   "source": [
    "import numpy as np"
   ]
  },
  {
   "cell_type": "code",
   "execution_count": 4,
   "id": "455eda82-f271-4570-8766-c81f53e5ac24",
   "metadata": {},
   "outputs": [],
   "source": [
    "arr1 = np.array([1,2,3,4])"
   ]
  },
  {
   "cell_type": "code",
   "execution_count": 5,
   "id": "26e41596-61c6-4818-97ec-923dfd4ed220",
   "metadata": {},
   "outputs": [
    {
     "data": {
      "text/plain": [
       "array([1, 2, 3, 4])"
      ]
     },
     "execution_count": 5,
     "metadata": {},
     "output_type": "execute_result"
    }
   ],
   "source": [
    "arr1"
   ]
  },
  {
   "cell_type": "code",
   "execution_count": 6,
   "id": "ad70218d-4c13-468f-8542-c3e2b7e4fc2e",
   "metadata": {},
   "outputs": [
    {
     "data": {
      "text/plain": [
       "numpy.ndarray"
      ]
     },
     "execution_count": 6,
     "metadata": {},
     "output_type": "execute_result"
    }
   ],
   "source": [
    "type(arr1)"
   ]
  },
  {
   "cell_type": "code",
   "execution_count": 7,
   "id": "f045f395-f57e-4f37-b72e-c6bd854f0f4a",
   "metadata": {},
   "outputs": [
    {
     "data": {
      "text/plain": [
       "(4,)"
      ]
     },
     "execution_count": 7,
     "metadata": {},
     "output_type": "execute_result"
    }
   ],
   "source": [
    "arr1.shape"
   ]
  },
  {
   "cell_type": "code",
   "execution_count": 8,
   "id": "a03b46dd-c05e-4333-a89a-33290d4ce0e1",
   "metadata": {},
   "outputs": [
    {
     "data": {
      "text/plain": [
       "array([[1, 2, 3, 4]])"
      ]
     },
     "execution_count": 8,
     "metadata": {},
     "output_type": "execute_result"
    }
   ],
   "source": [
    "arr1.reshape(1,4)"
   ]
  },
  {
   "cell_type": "code",
   "execution_count": 9,
   "id": "2ff6ac38-5455-4e0a-9e14-db3c817c65cf",
   "metadata": {},
   "outputs": [],
   "source": [
    "arr2 = np.array([[1,2,3,4], [5,6,7,8]])"
   ]
  },
  {
   "cell_type": "code",
   "execution_count": 10,
   "id": "f4f70038-7822-49f5-af1d-7dc65885d029",
   "metadata": {},
   "outputs": [
    {
     "name": "stdout",
     "output_type": "stream",
     "text": [
      "[[1 2 3 4]\n",
      " [5 6 7 8]]\n"
     ]
    }
   ],
   "source": [
    "print(arr2)"
   ]
  },
  {
   "cell_type": "code",
   "execution_count": 11,
   "id": "c2973e67-ecd8-427f-9f6c-fd787926603e",
   "metadata": {},
   "outputs": [
    {
     "data": {
      "text/plain": [
       "(2, 4)"
      ]
     },
     "execution_count": 11,
     "metadata": {},
     "output_type": "execute_result"
    }
   ],
   "source": [
    "arr2.shape"
   ]
  },
  {
   "cell_type": "code",
   "execution_count": 12,
   "id": "29c65094-c732-4080-bd8d-3a1909bcc5a0",
   "metadata": {},
   "outputs": [
    {
     "data": {
      "text/plain": [
       "array([[ 1,  3,  5,  7],\n",
       "       [ 9, 11, 13, 15]])"
      ]
     },
     "execution_count": 12,
     "metadata": {},
     "output_type": "execute_result"
    }
   ],
   "source": [
    "np.arange(1,16,2).reshape(2,-1)"
   ]
  },
  {
   "cell_type": "code",
   "execution_count": 13,
   "id": "b31f094f-f91f-4b0e-9ef6-65b117e51dd1",
   "metadata": {},
   "outputs": [
    {
     "data": {
      "text/plain": [
       "array([[1., 1., 1., 1., 1., 1.],\n",
       "       [1., 1., 1., 1., 1., 1.]])"
      ]
     },
     "execution_count": 13,
     "metadata": {},
     "output_type": "execute_result"
    }
   ],
   "source": [
    "#uniform array\n",
    "np.ones((2,6))"
   ]
  },
  {
   "cell_type": "code",
   "execution_count": 14,
   "id": "cddf91fc-b6ce-475a-931f-fd9c5c720cb8",
   "metadata": {},
   "outputs": [
    {
     "data": {
      "text/plain": [
       "array([[1., 0., 0., 0.],\n",
       "       [0., 1., 0., 0.],\n",
       "       [0., 0., 1., 0.],\n",
       "       [0., 0., 0., 1.]])"
      ]
     },
     "execution_count": 14,
     "metadata": {},
     "output_type": "execute_result"
    }
   ],
   "source": [
    "#identity matrix\n",
    "np.eye(4)"
   ]
  },
  {
   "cell_type": "code",
   "execution_count": 15,
   "id": "8f558fb8-9adc-473e-baac-f76d52bcbcf2",
   "metadata": {},
   "outputs": [
    {
     "name": "stdout",
     "output_type": "stream",
     "text": [
      "(2, 4)\n",
      "8\n",
      "2\n",
      "int32\n",
      "4\n"
     ]
    }
   ],
   "source": [
    "#attributes of numpy\n",
    "print(arr2.shape)\n",
    "print(arr2.size)\n",
    "print(arr2.ndim)\n",
    "print(arr2.dtype)\n",
    "print(arr2.itemsize)"
   ]
  },
  {
   "cell_type": "code",
   "execution_count": 16,
   "id": "58ad85cc-95f4-42b9-b145-a060432e1a69",
   "metadata": {},
   "outputs": [
    {
     "name": "stdout",
     "output_type": "stream",
     "text": [
      "[[ 1  4  7 10]\n",
      " [13 16 19 22]]\n",
      "[[1.         2.         2.64575131 3.16227766]\n",
      " [3.60555128 4.         4.35889894 4.69041576]]\n",
      "[[ 0.84147098 -0.7568025   0.6569866  -0.54402111]\n",
      " [ 0.42016704 -0.28790332  0.14987721 -0.00885131]]\n",
      "[[2.71828183e+00 5.45981500e+01 1.09663316e+03 2.20264658e+04]\n",
      " [4.42413392e+05 8.88611052e+06 1.78482301e+08 3.58491285e+09]]\n",
      "[[0.         1.38629436 1.94591015 2.30258509]\n",
      " [2.56494936 2.77258872 2.94443898 3.09104245]]\n"
     ]
    }
   ],
   "source": [
    "#Universal functions\n",
    "arr = np.arange(1,25,3).reshape(2,-1)\n",
    "print(arr)\n",
    "print(np.sqrt(arr))\n",
    "print(np.sin(arr))\n",
    "print(np.exp(arr))\n",
    "print(np.log(arr))"
   ]
  },
  {
   "cell_type": "code",
   "execution_count": 38,
   "id": "c2028f5d-345d-42be-bda9-e9e0b9d72ada",
   "metadata": {},
   "outputs": [
    {
     "name": "stdout",
     "output_type": "stream",
     "text": [
      "[16 19]\n"
     ]
    }
   ],
   "source": [
    "#Array slicig and indexing\n",
    "print(arr[1,1:3])"
   ]
  },
  {
   "cell_type": "code",
   "execution_count": 42,
   "id": "44bc7dda-6201-4bdf-a6f7-1853041fafd6",
   "metadata": {},
   "outputs": [],
   "source": [
    "#statistics\n",
    "mean = np.mean(arr)\n",
    "median = np.median(arr)\n",
    "std_div = np.std(arr)\n",
    "variance = np.var(arr)"
   ]
  },
  {
   "cell_type": "code",
   "execution_count": 44,
   "id": "104b54dd-0426-43a2-8b8d-cb45475da92a",
   "metadata": {},
   "outputs": [
    {
     "name": "stdout",
     "output_type": "stream",
     "text": [
      "11.5\n",
      "11.5\n",
      "6.87386354243376\n",
      "47.25\n"
     ]
    }
   ],
   "source": [
    "print(mean)\n",
    "print(median)\n",
    "print(std_div)\n",
    "print(variance)"
   ]
  },
  {
   "cell_type": "code",
   "execution_count": 48,
   "id": "534df20f-a2ca-436e-a29f-d3149be49912",
   "metadata": {},
   "outputs": [
    {
     "name": "stdout",
     "output_type": "stream",
     "text": [
      "[[-1.52752523 -1.09108945 -0.65465367 -0.21821789]\n",
      " [ 0.21821789  0.65465367  1.09108945  1.52752523]]\n"
     ]
    }
   ],
   "source": [
    "#normalization\n",
    "norm = (arr - mean) / std_div\n",
    "print(norm)"
   ]
  },
  {
   "cell_type": "code",
   "execution_count": null,
   "id": "b64f2975-cdde-483d-8ce9-fec776ec02a7",
   "metadata": {},
   "outputs": [],
   "source": []
  }
 ],
 "metadata": {
  "kernelspec": {
   "display_name": "Python [conda env:base] *",
   "language": "python",
   "name": "conda-base-py"
  },
  "language_info": {
   "codemirror_mode": {
    "name": "ipython",
    "version": 3
   },
   "file_extension": ".py",
   "mimetype": "text/x-python",
   "name": "python",
   "nbconvert_exporter": "python",
   "pygments_lexer": "ipython3",
   "version": "3.12.7"
  }
 },
 "nbformat": 4,
 "nbformat_minor": 5
}
