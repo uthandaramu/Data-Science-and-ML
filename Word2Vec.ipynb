{
 "cells": [
  {
   "cell_type": "markdown",
   "id": "b3ac05d3-b40c-465c-9752-63ff5a57b037",
   "metadata": {},
   "source": [
    "#### Import Trained Word2Vector model"
   ]
  },
  {
   "cell_type": "code",
   "execution_count": 1,
   "id": "637876a7-e4f0-432b-9f7f-61225c3e141d",
   "metadata": {},
   "outputs": [],
   "source": [
    "from gensim.models import Word2Vec, KeyedVectors"
   ]
  },
  {
   "cell_type": "code",
   "execution_count": 4,
   "id": "76e196a0-907b-423f-9855-2bdb3d4b0afd",
   "metadata": {},
   "outputs": [],
   "source": [
    "wv=KeyedVectors.load_word2vec_format(\"data/GoogleNews-vectors-negative300.bin\", binary=True)"
   ]
  },
  {
   "cell_type": "code",
   "execution_count": 6,
   "id": "84fa1295-3762-49ac-a78b-e26c6374c2f2",
   "metadata": {},
   "outputs": [],
   "source": [
    "vec_king = wv['King']"
   ]
  },
  {
   "cell_type": "code",
   "execution_count": 8,
   "id": "2d1e209e-5229-4463-b29a-33f37cea77f7",
   "metadata": {},
   "outputs": [
    {
     "data": {
      "text/plain": [
       "array([-0.00350952,  0.01623535, -0.08154297,  0.12792969,  0.11230469,\n",
       "       -0.00534058,  0.03063965,  0.04931641,  0.22070312,  0.07373047,\n",
       "       -0.13769531,  0.16210938,  0.02148438, -0.09375   , -0.12792969,\n",
       "       -0.12402344, -0.11132812,  0.11816406, -0.07861328,  0.25390625,\n",
       "        0.01794434,  0.14160156,  0.0612793 , -0.08691406,  0.07763672,\n",
       "        0.05175781, -0.24609375, -0.17578125,  0.14746094,  0.06640625,\n",
       "       -0.03833008, -0.09033203, -0.07226562,  0.09375   , -0.18847656,\n",
       "        0.06347656,  0.24121094,  0.00714111, -0.30273438, -0.02478027,\n",
       "       -0.09619141, -0.30859375, -0.06054688,  0.22167969,  0.07763672,\n",
       "        0.05834961,  0.15527344, -0.13476562, -0.00341797, -0.13964844,\n",
       "       -0.02905273,  0.03833008, -0.15332031, -0.20996094,  0.21679688,\n",
       "        0.01171875, -0.078125  ,  0.00402832, -0.23535156, -0.10400391,\n",
       "        0.08837891,  0.25976562,  0.02709961,  0.01123047,  0.12988281,\n",
       "       -0.11914062, -0.07861328, -0.04736328, -0.06591797,  0.07958984,\n",
       "        0.04321289, -0.14355469,  0.04150391,  0.20410156,  0.05493164,\n",
       "       -0.06030273,  0.10107422, -0.00439453,  0.32617188, -0.05712891,\n",
       "       -0.09130859,  0.20019531,  0.02941895, -0.11230469,  0.06054688,\n",
       "       -0.00982666, -0.30664062, -0.02514648,  0.14355469,  0.07275391,\n",
       "        0.09716797, -0.09179688, -0.20410156, -0.21875   ,  0.07128906,\n",
       "        0.16503906, -0.01300049,  0.10888672, -0.09326172, -0.07568359,\n",
       "       -0.07568359, -0.15136719,  0.0625    , -0.09179688,  0.06176758,\n",
       "        0.01086426, -0.21484375, -0.12353516,  0.14453125,  0.02001953,\n",
       "        0.07910156,  0.33398438,  0.06640625, -0.08056641,  0.16699219,\n",
       "       -0.2421875 ,  0.0090332 , -0.14453125,  0.18066406,  0.21289062,\n",
       "        0.04077148,  0.171875  , -0.03100586, -0.12597656, -0.0625    ,\n",
       "       -0.13476562, -0.15820312,  0.11816406, -0.06591797, -0.10058594,\n",
       "       -0.15234375,  0.14550781, -0.14941406,  0.22070312,  0.04907227,\n",
       "        0.01281738,  0.00927734,  0.20019531, -0.15429688,  0.16308594,\n",
       "       -0.04907227, -0.16015625,  0.0177002 , -0.08544922,  0.23828125,\n",
       "       -0.11572266,  0.08154297, -0.38867188, -0.19433594,  0.33203125,\n",
       "       -0.12597656,  0.02819824,  0.14550781, -0.14160156,  0.08105469,\n",
       "        0.09619141, -0.00897217, -0.15332031,  0.15332031, -0.0088501 ,\n",
       "       -0.10498047,  0.04638672,  0.25195312,  0.09179688, -0.0300293 ,\n",
       "       -0.14355469, -0.01123047, -0.11865234,  0.12109375,  0.11572266,\n",
       "       -0.00640869,  0.05419922,  0.06884766, -0.08837891,  0.04589844,\n",
       "        0.00335693, -0.18164062,  0.02160645, -0.04370117, -0.0559082 ,\n",
       "       -0.13574219, -0.09375   ,  0.02600098, -0.13964844, -0.06542969,\n",
       "       -0.04858398,  0.41796875,  0.18554688,  0.18554688,  0.21875   ,\n",
       "       -0.09277344,  0.23925781,  0.00125885, -0.05102539, -0.20605469,\n",
       "        0.07128906, -0.04418945, -0.08056641,  0.02978516, -0.08007812,\n",
       "       -0.04296875, -0.18945312, -0.05810547, -0.0135498 ,  0.09765625,\n",
       "       -0.10644531, -0.02185059,  0.31445312,  0.04248047,  0.03491211,\n",
       "       -0.07861328,  0.27148438,  0.07275391, -0.12304688,  0.0291748 ,\n",
       "       -0.04736328,  0.11279297, -0.16503906,  0.05224609,  0.06933594,\n",
       "       -0.06542969, -0.02587891,  0.19824219, -0.16601562,  0.13867188,\n",
       "        0.01422119, -0.10791016,  0.0324707 ,  0.03442383,  0.05981445,\n",
       "        0.06738281, -0.01940918, -0.10742188, -0.00454712, -0.27539062,\n",
       "        0.00604248,  0.15917969, -0.06835938,  0.00086975, -0.07177734,\n",
       "        0.0625    , -0.13671875, -0.06591797, -0.23828125, -0.03466797,\n",
       "       -0.08105469, -0.05761719,  0.20410156, -0.01226807, -0.14257812,\n",
       "       -0.16113281,  0.17480469,  0.03662109,  0.12890625,  0.09082031,\n",
       "        0.0546875 , -0.24511719, -0.00866699, -0.05615234, -0.06933594,\n",
       "        0.01916504,  0.11865234, -0.06005859, -0.0859375 ,  0.01940918,\n",
       "       -0.02270508, -0.0612793 ,  0.06982422,  0.17285156,  0.17773438,\n",
       "        0.04370117,  0.05615234,  0.02734375,  0.2578125 ,  0.19433594,\n",
       "       -0.04003906, -0.12158203, -0.10839844, -0.17773438,  0.05249023,\n",
       "       -0.11376953, -0.11230469,  0.27148438, -0.00061417,  0.0168457 ,\n",
       "       -0.11816406, -0.03833008, -0.04223633, -0.12109375, -0.12695312,\n",
       "        0.00222778, -0.20019531, -0.1328125 ,  0.09960938, -0.2734375 ,\n",
       "       -0.328125  , -0.22460938, -0.14746094, -0.02368164,  0.24902344],\n",
       "      dtype=float32)"
      ]
     },
     "execution_count": 8,
     "metadata": {},
     "output_type": "execute_result"
    }
   ],
   "source": [
    "vec_king"
   ]
  },
  {
   "cell_type": "code",
   "execution_count": 10,
   "id": "b87626ff-9339-43c7-a06a-85314016e66d",
   "metadata": {},
   "outputs": [
    {
     "data": {
      "text/plain": [
       "[('soccer', 0.7313548922538757),\n",
       " ('fooball', 0.7139959335327148),\n",
       " ('Football', 0.7124834060668945),\n",
       " ('basketball', 0.668246865272522),\n",
       " ('footbal', 0.6649289727210999),\n",
       " ('athletics', 0.6265192627906799),\n",
       " ('gridiron', 0.6191604733467102),\n",
       " ('baseball', 0.6162001490592957),\n",
       " ('footballl', 0.6069177389144897),\n",
       " ('sports', 0.5927178859710693)]"
      ]
     },
     "execution_count": 10,
     "metadata": {},
     "output_type": "execute_result"
    }
   ],
   "source": [
    "wv.most_similar('football')"
   ]
  },
  {
   "cell_type": "code",
   "execution_count": 12,
   "id": "d7bb49a8-1c6b-4e06-b951-de9a872d09d3",
   "metadata": {},
   "outputs": [
    {
     "data": {
      "text/plain": [
       "[('Jython', 0.6152505874633789),\n",
       " ('Perl_Python', 0.5710949897766113),\n",
       " ('IronPython', 0.5704678297042847),\n",
       " ('scripting_languages', 0.5695092082023621),\n",
       " ('PHP_Perl', 0.5687724947929382),\n",
       " ('Java_Python', 0.5681070685386658),\n",
       " ('PHP', 0.5660915970802307),\n",
       " ('Python_Ruby', 0.5632462501525879),\n",
       " ('Visual_Basic', 0.5603480339050293),\n",
       " ('Perl', 0.5530890822410583)]"
      ]
     },
     "execution_count": 12,
     "metadata": {},
     "output_type": "execute_result"
    }
   ],
   "source": [
    "wv.most_similar('Python')"
   ]
  },
  {
   "cell_type": "code",
   "execution_count": 16,
   "id": "08239742-3b8f-4c12-9a73-4d869d221c96",
   "metadata": {},
   "outputs": [
    {
     "data": {
      "text/plain": [
       "0.4618971"
      ]
     },
     "execution_count": 16,
     "metadata": {},
     "output_type": "execute_result"
    }
   ],
   "source": [
    "wv.similarity('Java', 'Python')"
   ]
  },
  {
   "cell_type": "markdown",
   "id": "3812b5d1-a95f-4b81-80b0-c8892b42fbda",
   "metadata": {},
   "source": [
    "#### Create a bag of word model from spam dataset"
   ]
  },
  {
   "cell_type": "code",
   "execution_count": 47,
   "id": "43236d2b-f02c-402b-bc8f-bdfd18158d1f",
   "metadata": {},
   "outputs": [],
   "source": [
    "import pandas as pd\n",
    "spam_df = pd.read_csv('data/spam.csv', usecols=['v1', 'v2'], encoding='latin1')\n",
    "spam_df.rename(columns={'v1': 'Label', 'v2': 'Message'}, inplace=True)"
   ]
  },
  {
   "cell_type": "code",
   "execution_count": 51,
   "id": "e17839cf-3d95-45c4-bc33-6f231325fcfd",
   "metadata": {},
   "outputs": [
    {
     "data": {
      "text/html": [
       "<div>\n",
       "<style scoped>\n",
       "    .dataframe tbody tr th:only-of-type {\n",
       "        vertical-align: middle;\n",
       "    }\n",
       "\n",
       "    .dataframe tbody tr th {\n",
       "        vertical-align: top;\n",
       "    }\n",
       "\n",
       "    .dataframe thead th {\n",
       "        text-align: right;\n",
       "    }\n",
       "</style>\n",
       "<table border=\"1\" class=\"dataframe\">\n",
       "  <thead>\n",
       "    <tr style=\"text-align: right;\">\n",
       "      <th></th>\n",
       "      <th>Label</th>\n",
       "      <th>Message</th>\n",
       "    </tr>\n",
       "  </thead>\n",
       "  <tbody>\n",
       "    <tr>\n",
       "      <th>0</th>\n",
       "      <td>ham</td>\n",
       "      <td>Go until jurong point, crazy.. Available only ...</td>\n",
       "    </tr>\n",
       "    <tr>\n",
       "      <th>1</th>\n",
       "      <td>ham</td>\n",
       "      <td>Ok lar... Joking wif u oni...</td>\n",
       "    </tr>\n",
       "    <tr>\n",
       "      <th>2</th>\n",
       "      <td>spam</td>\n",
       "      <td>Free entry in 2 a wkly comp to win FA Cup fina...</td>\n",
       "    </tr>\n",
       "    <tr>\n",
       "      <th>3</th>\n",
       "      <td>ham</td>\n",
       "      <td>U dun say so early hor... U c already then say...</td>\n",
       "    </tr>\n",
       "    <tr>\n",
       "      <th>4</th>\n",
       "      <td>ham</td>\n",
       "      <td>Nah I don't think he goes to usf, he lives aro...</td>\n",
       "    </tr>\n",
       "  </tbody>\n",
       "</table>\n",
       "</div>"
      ],
      "text/plain": [
       "  Label                                            Message\n",
       "0   ham  Go until jurong point, crazy.. Available only ...\n",
       "1   ham                      Ok lar... Joking wif u oni...\n",
       "2  spam  Free entry in 2 a wkly comp to win FA Cup fina...\n",
       "3   ham  U dun say so early hor... U c already then say...\n",
       "4   ham  Nah I don't think he goes to usf, he lives aro..."
      ]
     },
     "execution_count": 51,
     "metadata": {},
     "output_type": "execute_result"
    }
   ],
   "source": [
    "spam_df.head()"
   ]
  },
  {
   "cell_type": "code",
   "execution_count": 63,
   "id": "4783e07d-8114-4b8b-a24a-99c4289e9086",
   "metadata": {},
   "outputs": [
    {
     "name": "stderr",
     "output_type": "stream",
     "text": [
      "[nltk_data] Downloading package stopwords to C:\\Users\\Uthanda\n",
      "[nltk_data]     Ramu\\AppData\\Roaming\\nltk_data...\n",
      "[nltk_data]   Unzipping corpora\\stopwords.zip.\n"
     ]
    }
   ],
   "source": [
    "import re\n",
    "import nltk\n",
    "nltk.download('stopwords')\n",
    "from nltk.corpus import stopwords\n",
    "from nltk.stem.porter import PorterStemmer"
   ]
  },
  {
   "cell_type": "code",
   "execution_count": 65,
   "id": "bce13087-fc34-4a2c-a951-d685069a2885",
   "metadata": {},
   "outputs": [],
   "source": [
    "ps = PorterStemmer()"
   ]
  },
  {
   "cell_type": "code",
   "execution_count": 67,
   "id": "d87de168-0acb-4add-877f-c0f349a82e7a",
   "metadata": {},
   "outputs": [],
   "source": [
    "corpus = []\n",
    "for i in range(len(spam_df)):\n",
    "    review = re.sub('[^a-zA-Z]', ' ', spam_df[\"Message\"][i])\n",
    "    review = review.lower()\n",
    "    review = review.split()\n",
    "    review = [ps.stem(word) for word in review if not word in stopwords.words('english')]\n",
    "    review = \" \".join(review)\n",
    "    corpus.append(review)"
   ]
  },
  {
   "cell_type": "markdown",
   "id": "e6e5c99c-7d6a-4a7b-8a1b-c92cad830746",
   "metadata": {},
   "source": [
    "#### Using CounterVectorizer and TfidfVectorizer for tokenization"
   ]
  },
  {
   "cell_type": "code",
   "execution_count": 54,
   "id": "14639e23-b2a4-49e8-b9bc-42a67706ff1e",
   "metadata": {},
   "outputs": [],
   "source": [
    "from sklearn.feature_extraction.text import CountVectorizer, TfidfVectorizer\n",
    "cv = CountVectorizer(max_features=2500, ngram_range=(1,2))\n",
    "tfidf = TfidfVectorizer(max_features=2500, ngram_range=(1,2))"
   ]
  },
  {
   "cell_type": "code",
   "execution_count": 71,
   "id": "30c815c1-2b1e-45e7-8043-7d75b2ab0951",
   "metadata": {},
   "outputs": [],
   "source": [
    "x_cv = cv.fit_transform(corpus).toarray()\n",
    "x_tfidf = tfidf.fit_transform(corpus).toarray()"
   ]
  },
  {
   "cell_type": "code",
   "execution_count": 77,
   "id": "1b4c7c69-2770-403d-8669-3dc0f31141c2",
   "metadata": {},
   "outputs": [],
   "source": [
    "y = pd.get_dummies(spam_df['Label'])\n",
    "y = y.iloc[:, 0].values"
   ]
  },
  {
   "cell_type": "code",
   "execution_count": 79,
   "id": "5bab8632-4084-4aac-9071-b9bc4a02997d",
   "metadata": {},
   "outputs": [
    {
     "data": {
      "text/plain": [
       "(5572,)"
      ]
     },
     "execution_count": 79,
     "metadata": {},
     "output_type": "execute_result"
    }
   ],
   "source": [
    "y.shape"
   ]
  },
  {
   "cell_type": "markdown",
   "id": "7207c4be-0534-41c7-a2db-6963ad1daad4",
   "metadata": {},
   "source": [
    "#### Using CounterVectorizer and TfidfVectorizer tokens for training"
   ]
  },
  {
   "cell_type": "code",
   "execution_count": 87,
   "id": "26069e42-d2b3-49d8-8702-23db9ae9bb7e",
   "metadata": {},
   "outputs": [],
   "source": [
    "from sklearn.model_selection import train_test_split\n",
    "x_train_cv, x_test_cv, y_train_cv, y_test_cv = train_test_split(x_cv, y, test_size=0.2, random_state=21)\n",
    "x_train_tfidf, x_test_tfidf, y_train_tfidf, y_test_tfidf = train_test_split(x_tfidf, y, test_size=0.2, random_state=23)"
   ]
  },
  {
   "cell_type": "code",
   "execution_count": 91,
   "id": "e7c6d2cb-be8d-4ee9-91b6-5c44b7c498ab",
   "metadata": {},
   "outputs": [],
   "source": [
    "#Training\n",
    "from sklearn.naive_bayes import MultinomialNB\n",
    "spam_detect_model_cv = MultinomialNB().fit(x_train_cv, y_train_cv)\n",
    "spam_detect_model_tfidf = MultinomialNB().fit(x_train_tfidf, y_train_tfidf)"
   ]
  },
  {
   "cell_type": "code",
   "execution_count": 93,
   "id": "bbdecc0b-03fa-4d3e-b759-3aa342ab0795",
   "metadata": {},
   "outputs": [],
   "source": [
    "#Prediction\n",
    "y_pred_cv = spam_detect_model_cv.predict(x_test_cv)\n",
    "y_pred_tfidf = spam_detect_model_tfidf.predict(x_test_tfidf)"
   ]
  },
  {
   "cell_type": "code",
   "execution_count": 101,
   "id": "38008784-9cbb-4591-ab19-a1f13735f598",
   "metadata": {},
   "outputs": [
    {
     "name": "stdout",
     "output_type": "stream",
     "text": [
      "0.9847533632286996\n",
      "              precision    recall  f1-score   support\n",
      "\n",
      "       False       0.94      0.94      0.94       140\n",
      "        True       0.99      0.99      0.99       975\n",
      "\n",
      "    accuracy                           0.98      1115\n",
      "   macro avg       0.96      0.97      0.97      1115\n",
      "weighted avg       0.98      0.98      0.98      1115\n",
      "\n"
     ]
    }
   ],
   "source": [
    "#Metrics evaluation on cv tokens\n",
    "from sklearn.metrics import accuracy_score, classification_report\n",
    "print(accuracy_score(y_test_cv, y_pred_cv))\n",
    "print(classification_report(y_test_cv, y_pred_cv))"
   ]
  },
  {
   "cell_type": "code",
   "execution_count": 103,
   "id": "5c2389e5-88f0-413d-938a-a7fe1a45c4a2",
   "metadata": {},
   "outputs": [
    {
     "name": "stdout",
     "output_type": "stream",
     "text": [
      "0.9802690582959641\n",
      "              precision    recall  f1-score   support\n",
      "\n",
      "       False       0.99      0.85      0.91       136\n",
      "        True       0.98      1.00      0.99       979\n",
      "\n",
      "    accuracy                           0.98      1115\n",
      "   macro avg       0.99      0.92      0.95      1115\n",
      "weighted avg       0.98      0.98      0.98      1115\n",
      "\n"
     ]
    }
   ],
   "source": [
    "#Metrics evaluation on tfidf tokens\n",
    "print(accuracy_score(y_test_tfidf, y_pred_tfidf))\n",
    "print(classification_report(y_test_tfidf, y_pred_tfidf))"
   ]
  }
 ],
 "metadata": {
  "kernelspec": {
   "display_name": "Python [conda env:base] *",
   "language": "python",
   "name": "conda-base-py"
  },
  "language_info": {
   "codemirror_mode": {
    "name": "ipython",
    "version": 3
   },
   "file_extension": ".py",
   "mimetype": "text/x-python",
   "name": "python",
   "nbconvert_exporter": "python",
   "pygments_lexer": "ipython3",
   "version": "3.12.7"
  }
 },
 "nbformat": 4,
 "nbformat_minor": 5
}
